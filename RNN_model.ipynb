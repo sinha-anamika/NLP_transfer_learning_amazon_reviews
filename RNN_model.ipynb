{
 "cells": [
  {
   "cell_type": "code",
   "execution_count": 37,
   "metadata": {},
   "outputs": [
    {
     "data": {
      "text/plain": [
       "<module 'rnnlm' from '/home/reachanamikasinha/project/rnnlm.py'>"
      ]
     },
     "execution_count": 37,
     "metadata": {},
     "output_type": "execute_result"
    }
   ],
   "source": [
    "# Standard python helper libraries.\n",
    "\n",
    "import json, os, re, shutil, sys, time\n",
    "import itertools, collections\n",
    "from importlib import reload\n",
    "from IPython.display import display\n",
    "import matplotlib.pyplot as plt\n",
    "%matplotlib inline\n",
    "import seaborn as sns\n",
    "\n",
    "# NumPy and SciPy for matrix ops\n",
    "import numpy as np\n",
    "import scipy.sparse\n",
    "import pandas as pd\n",
    "import tensorflow as tf\n",
    "assert(tf.__version__.startswith(\"1.\"))\n",
    "from sklearn.cross_validation import train_test_split\n",
    "\n",
    "# NLTK for NLP utils\n",
    "import nltk\n",
    "\n",
    "# Helper libraries\n",
    "from w266_common import vocabulary, tf_embed_viz, glove_helper\n",
    "from w266_common import utils; reload(utils)\n",
    "import rnnlm; reload(rnnlm)"
   ]
  },
  {
   "cell_type": "code",
   "execution_count": 2,
   "metadata": {},
   "outputs": [
    {
     "name": "stdout",
     "output_type": "stream",
     "text": [
      "Loading vectors from data/glove/glove.6B.zip\n",
      "Parsing file: data/glove/glove.6B.zip:glove.6B.100d.txt\n",
      "Found 400,000 words.\n",
      "Parsing vectors... Done! (W.shape = (400003, 100))\n"
     ]
    }
   ],
   "source": [
    "#Using pretrained GLove embeddings\n",
    "hands = glove_helper.Hands(ndim=100)  # 50, 100, 200, 300 dim are available"
   ]
  },
  {
   "cell_type": "code",
   "execution_count": 3,
   "metadata": {},
   "outputs": [
    {
     "data": {
      "text/plain": [
       "(400003, 100)"
      ]
     },
     "execution_count": 3,
     "metadata": {},
     "output_type": "execute_result"
    }
   ],
   "source": [
    "hands.shape"
   ]
  },
  {
   "cell_type": "code",
   "execution_count": 4,
   "metadata": {},
   "outputs": [
    {
     "name": "stdout",
     "output_type": "stream",
     "text": [
      "25.412991046905518\n"
     ]
    }
   ],
   "source": [
    "#Reading back from the pickle file\n",
    "start =time.time()\n",
    "df_hnk = pd.read_pickle('./home_df.pkl')\n",
    "stop = time.time()\n",
    "print(stop-start)"
   ]
  },
  {
   "cell_type": "code",
   "execution_count": 5,
   "metadata": {
    "collapsed": true
   },
   "outputs": [],
   "source": [
    "#working_df = df_hnk\n",
    "working_df = df_hnk[0:1000]"
   ]
  },
  {
   "cell_type": "code",
   "execution_count": 6,
   "metadata": {
    "collapsed": true
   },
   "outputs": [],
   "source": [
    "#Subset the data into training and test\n",
    "X_train, X_test, y_train, y_test = train_test_split(working_df['reviewText'], \n",
    "                                                    #working_df['overall'],\n",
    "                                                    working_df['polarity'],\n",
    "                                                    test_size=.2, random_state=42)"
   ]
  },
  {
   "cell_type": "code",
   "execution_count": 6,
   "metadata": {},
   "outputs": [
    {
     "name": "stdout",
     "output_type": "stream",
     "text": [
      "2369885    This unit lasted 2 summers.  At the end of the...\n",
      "2371835    Nothing to write home about.  If you just want...\n",
      "3781582    THIS IS MY SECOND PURCHASE OF THIS COSMETIC BA...\n",
      "3422088    So I've recently purchased the 'ProPur Big' sy...\n",
      "3139971    Unfortunately the dish drain is too flat, most...\n",
      "Name: reviewText, dtype: object\n"
     ]
    }
   ],
   "source": [
    "print(X_train[0:5])"
   ]
  },
  {
   "cell_type": "code",
   "execution_count": 7,
   "metadata": {},
   "outputs": [
    {
     "name": "stdout",
     "output_type": "stream",
     "text": [
      "[nltk_data] Downloading package punkt to\n",
      "[nltk_data]     /home/reachanamikasinha/nltk_data...\n",
      "[nltk_data]   Package punkt is already up-to-date!\n"
     ]
    }
   ],
   "source": [
    "import nltk\n",
    "nltk.download('punkt')\n",
    "from nltk import word_tokenize\n"
   ]
  },
  {
   "cell_type": "code",
   "execution_count": 8,
   "metadata": {},
   "outputs": [
    {
     "name": "stdout",
     "output_type": "stream",
     "text": [
      "800\n",
      "x_train_tokens_list length 800\n",
      "Vocabulary size: 4,372\n",
      "Total words  45945\n"
     ]
    }
   ],
   "source": [
    "#Preprocessing steps\n",
    "\n",
    "#Changing to nltk punkt tokenizer as the periods are not getting removed\n",
    "print(X_train.shape[0])\n",
    "\n",
    "train_cnt = collections.Counter()\n",
    "x_train_tokens_list = []\n",
    "start = time.time()\n",
    "for i in range(X_train.shape[0]):\n",
    "\n",
    "    x_train_tokens = word_tokenize(X_train.iloc[i])\n",
    "    \n",
    "    \n",
    "\n",
    "    #2. changing to lowercase and replacing numbers(are we losing any context by \n",
    "    #replacing all numbers in the review test? Are we losing any context here)\n",
    "    x_tokens_canonical = utils.canonicalize_words(x_train_tokens)\n",
    "    \n",
    "    x_train_tokens_list.append(x_tokens_canonical)\n",
    "    \n",
    "\n",
    "    #3. Build vocabulary\n",
    "    for items in x_tokens_canonical:\n",
    "            train_cnt[items] += 1\n",
    "            \n",
    "vocab = vocabulary.Vocabulary(train_cnt, size=None)  # size=None means unlimited\n",
    "total_words = sum(train_cnt.values())\n",
    "print(\"x_train_tokens_list length\", len(x_train_tokens_list))\n",
    "print(\"Vocabulary size: {:,}\".format(vocab.size))\n",
    "#print(\"Vocabulary dict: \", vocab.word_to_id)\n",
    "print(\"Total words \",total_words )\n"
   ]
  },
  {
   "cell_type": "code",
   "execution_count": 9,
   "metadata": {},
   "outputs": [
    {
     "name": "stdout",
     "output_type": "stream",
     "text": [
      "200\n",
      "x_test_tokens_list length 200\n",
      "Total words  12199\n",
      "Average number of words per review:  60.995\n"
     ]
    }
   ],
   "source": [
    "#Preprocessing steps for dev set\n",
    "\n",
    "#Changing to nltk punkt tokenizer as the periods are not getting removed\n",
    "print(X_test.shape[0])\n",
    "\n",
    "test_cnt = collections.Counter()\n",
    "x_test_tokens_list = []\n",
    "start = time.time()\n",
    "for i in range(X_test.shape[0]):\n",
    "\n",
    "    x_test_tokens = word_tokenize(X_test.iloc[i])\n",
    "    \n",
    "    \n",
    "\n",
    "    #2. changing to lowercase and replacing numbers(are we losing any context by \n",
    "    #replacing all numbers in the review test? Are we losing any context here)\n",
    "    x_tokens_canonical = utils.canonicalize_words(x_test_tokens)\n",
    "    \n",
    "    x_test_tokens_list.append(x_tokens_canonical)\n",
    "    \n",
    "\n",
    "    #3. Build vocabulary\n",
    "    for items in x_tokens_canonical:\n",
    "            test_cnt[items] += 1\n",
    "            \n",
    "\n",
    "total_words = sum(test_cnt.values())\n",
    "print(\"x_test_tokens_list length\", len(x_test_tokens_list))\n",
    "\n",
    "print(\"Total words \",total_words )\n",
    "print('Average number of words per review: ', total_words/X_test.shape[0])\n",
    "#Average number of words per review helps us figure out the sequence length"
   ]
  },
  {
   "cell_type": "code",
   "execution_count": 51,
   "metadata": {},
   "outputs": [
    {
     "name": "stdout",
     "output_type": "stream",
     "text": [
      "['saw', 'this', 'book', 'in', 'my', 'local', 'library', '.', 'borrowed', 'it', 'and', 'simply', 'loved', 'it', '.', 'could', \"n't\", 'wait', 'to', 'get', 'my', 'own', 'copy', '.', 'just', 'love', 'all', 'the', 'beautiful', 'pictures', 'in', 'here', '.', 'finally', 'got', 'it', 'from', 'amazon', 'and', 'it', \"'s\", 'mine', '!', '!', 'no', 'need', 'to', 'borrow', 'from', 'the', 'library', 'anymore', '.']\n"
     ]
    }
   ],
   "source": [
    "print(x_train_tokens_list[0])"
   ]
  },
  {
   "cell_type": "code",
   "execution_count": 10,
   "metadata": {
    "collapsed": true
   },
   "outputs": [],
   "source": [
    "#Converting all reviews to ids \n",
    "train_id_list = []\n",
    "for item in x_train_tokens_list:\n",
    "    train_id_list.append(vocab.words_to_ids(item))\n",
    "    \n",
    "test_id_list = []\n",
    "for item in x_test_tokens_list:\n",
    "    test_id_list.append(vocab.words_to_ids(item))    "
   ]
  },
  {
   "cell_type": "code",
   "execution_count": 47,
   "metadata": {},
   "outputs": [
    {
     "name": "stdout",
     "output_type": "stream",
     "text": [
      "['saw', 'this', 'book', 'in', 'my', 'local', 'library', '.', 'borrowed', 'it', 'and', 'simply', 'loved', 'it', '.', 'could', \"n't\", 'wait', 'to', 'get', 'my', 'own', 'copy', '.', 'just', 'love', 'all', 'the', 'beautiful', 'pictures', 'in', 'here', '.', 'finally', 'got', 'it', 'from', 'amazon', 'and', 'it', \"'s\", 'mine', '!', '!', 'no', 'need', 'to', 'borrow', 'from', 'the', 'library', 'anymore', '.']\n"
     ]
    }
   ],
   "source": [
    "print((x_train_tokens_list[0]))"
   ]
  },
  {
   "cell_type": "code",
   "execution_count": 53,
   "metadata": {},
   "outputs": [
    {
     "name": "stdout",
     "output_type": "stream",
     "text": [
      "[3, 4, 5, 6, 7, 8, 9, 10, 11, 12, 13, 14, 15, 12, 10, 16, 17, 18, 19, 20, 7, 21, 22, 10, 23, 24, 25, 26, 27, 28, 6, 29, 10, 30, 31, 12, 32, 33, 13, 12, 34, 35, 36, 36, 37, 38, 19, 39, 32, 26, 9, 40, 10]\n"
     ]
    }
   ],
   "source": [
    "print((train_id_list[0]))"
   ]
  },
  {
   "cell_type": "code",
   "execution_count": 54,
   "metadata": {},
   "outputs": [
    {
     "name": "stdout",
     "output_type": "stream",
     "text": [
      "['i', 'bought', 'this', 'because', 'i', 'have', \"n't\", 'found', 'time', 'to', 'take', 'the', 'class', 'and', 'found', 'it', \"'s\", 'pretty', 'easy', 'to', 'follow', 'along', 'and', 'teach', 'yourself', 'everything', 'in', 'the', 'book', '.', 'there', 'is', 'step', 'by', 'step', 'instructions', 'for', 'different', 'designs', 'and', 'ideas', 'and', 'lots', 'of', 'hints', 'and', 'tricks', 'for', 'working', 'with', 'fondant', 'and', 'gumpaste', '.']\n"
     ]
    }
   ],
   "source": [
    "print((x_test_tokens_list[0]))"
   ]
  },
  {
   "cell_type": "code",
   "execution_count": 55,
   "metadata": {},
   "outputs": [
    {
     "name": "stdout",
     "output_type": "stream",
     "text": [
      "[41, 195, 4, 197, 41, 83, 17, 247, 243, 19, 257, 26, 424, 13, 247, 12, 34, 326, 234, 19, 608, 1163, 13, 1282, 1192, 344, 6, 26, 5, 10, 380, 79, 623, 426, 623, 179, 43, 659, 399, 13, 415, 13, 260, 74, 3015, 13, 637, 43, 806, 70, 371, 13, 996, 10]\n"
     ]
    }
   ],
   "source": [
    "print((test_id_list[0]))"
   ]
  },
  {
   "cell_type": "code",
   "execution_count": 58,
   "metadata": {},
   "outputs": [
    {
     "name": "stdout",
     "output_type": "stream",
     "text": [
      "[4301, 76, 4302, 305, 4149, 570, 166, 76, 54, 41, 138, 4, 145, 223, 80, 19, 235, 95, 44, 704, 168, 76, 41, 4303, 26, 147, 6, 12, 4304, 3428, 970, 10, 915, 706, 1326, 706, 50, 17, 412, 706, 983, 343, 19, 235, 12, 43, 1457, 76, 12, 34, 23, 489, 2088, 43, 245, 36, 979, 13, 1612, 2496, 498, 289, 12, 232, 87, 2659, 10]\n"
     ]
    }
   ],
   "source": [
    "print(max((train_id_list)))"
   ]
  },
  {
   "cell_type": "code",
   "execution_count": 59,
   "metadata": {},
   "outputs": [
    {
     "name": "stdout",
     "output_type": "stream",
     "text": [
      "Shortest review: 2\n",
      "Longest revies: 574\n"
     ]
    }
   ],
   "source": [
    "review_lengths = [len(review) for review in train_id_list]\n",
    "print(\"Shortest review:\", min(review_lengths))\n",
    "print(\"Longest review:\",max(review_lengths))\n"
   ]
  },
  {
   "cell_type": "code",
   "execution_count": 62,
   "metadata": {},
   "outputs": [
    {
     "data": {
      "text/plain": [
       "[]"
      ]
     },
     "execution_count": 62,
     "metadata": {},
     "output_type": "execute_result"
    },
    {
     "data": {
      "image/png": "[encoded data removed]",
      "text/plain": [
       "<matplotlib.figure.Figure at 0x7f9b06629c50>"
      ]
     },
     "metadata": {},
     "output_type": "display_data"
    }
   ],
   "source": [
    "ax = plt.axes()\n",
    "sns.distplot(review_lengths)\n",
    "ax.set_title(\"Distribution of the review lengths\")\n",
    "plt.plot()"
   ]
  },
  {
   "cell_type": "code",
   "execution_count": 63,
   "metadata": {},
   "outputs": [
    {
     "data": {
      "text/html": [
       "<div>\n",
       "<style>\n",
       "    .dataframe thead tr:only-child th {\n",
       "        text-align: right;\n",
       "    }\n",
       "\n",
       "    .dataframe thead th {\n",
       "        text-align: left;\n",
       "    }\n",
       "\n",
       "    .dataframe tbody tr th {\n",
       "        vertical-align: top;\n",
       "    }\n",
       "</style>\n",
       "<table border=\"1\" class=\"dataframe\">\n",
       "  <thead>\n",
       "    <tr style=\"text-align: right;\">\n",
       "      <th></th>\n",
       "      <th>0</th>\n",
       "    </tr>\n",
       "  </thead>\n",
       "  <tbody>\n",
       "    <tr>\n",
       "      <th>count</th>\n",
       "      <td>800.000000</td>\n",
       "    </tr>\n",
       "    <tr>\n",
       "      <th>mean</th>\n",
       "      <td>57.431250</td>\n",
       "    </tr>\n",
       "    <tr>\n",
       "      <th>std</th>\n",
       "      <td>55.240267</td>\n",
       "    </tr>\n",
       "    <tr>\n",
       "      <th>min</th>\n",
       "      <td>2.000000</td>\n",
       "    </tr>\n",
       "    <tr>\n",
       "      <th>25%</th>\n",
       "      <td>27.000000</td>\n",
       "    </tr>\n",
       "    <tr>\n",
       "      <th>50%</th>\n",
       "      <td>37.000000</td>\n",
       "    </tr>\n",
       "    <tr>\n",
       "      <th>75%</th>\n",
       "      <td>68.000000</td>\n",
       "    </tr>\n",
       "    <tr>\n",
       "      <th>max</th>\n",
       "      <td>574.000000</td>\n",
       "    </tr>\n",
       "  </tbody>\n",
       "</table>\n",
       "</div>"
      ],
      "text/plain": [
       "                0\n",
       "count  800.000000\n",
       "mean    57.431250\n",
       "std     55.240267\n",
       "min      2.000000\n",
       "25%     27.000000\n",
       "50%     37.000000\n",
       "75%     68.000000\n",
       "max    574.000000"
      ]
     },
     "execution_count": 63,
     "metadata": {},
     "output_type": "execute_result"
    }
   ],
   "source": [
    "pd.DataFrame(review_lengths).describe()"
   ]
  },
  {
   "cell_type": "code",
   "execution_count": 17,
   "metadata": {
    "collapsed": true
   },
   "outputs": [],
   "source": [
    "#Adding padding to each review less than max_length and cutting off reviews greater than max length\n",
    "max_length = 200\n",
    "\n",
    "train_ids, z = utils.pad_np_array(train_id_list, max_len=200) \n",
    "test_ids, z = utils.pad_np_array(train_id_list, max_len=200) "
   ]
  },
  {
   "cell_type": "code",
   "execution_count": 97,
   "metadata": {},
   "outputs": [
    {
     "name": "stdout",
     "output_type": "stream",
     "text": [
      "(800, 200)\n"
     ]
    }
   ],
   "source": [
    "print(train_ids.shape)"
   ]
  },
  {
   "cell_type": "code",
   "execution_count": 14,
   "metadata": {},
   "outputs": [
    {
     "name": "stdout",
     "output_type": "stream",
     "text": [
      "[ 3  4  5  6  7  8  9 10 11 12 13 14 15 12 10 16 17 18 19 20  7 21 22 10 23\n",
      " 24 25 26 27 28  6 29 10 30 31 12 32 33 13 12 34 35 36 36 37 38 19 39 32 26\n",
      "  9 40 10  0  0  0  0  0  0  0  0  0  0  0  0  0  0  0  0  0  0  0  0  0  0\n",
      "  0  0  0  0  0  0  0  0  0  0  0  0  0  0  0  0  0  0  0  0  0  0  0  0  0\n",
      "  0  0  0  0  0  0  0  0  0  0  0  0  0  0  0  0  0  0  0  0  0  0  0  0  0\n",
      "  0  0  0  0  0  0  0  0  0  0  0  0  0  0  0  0  0  0  0  0  0  0  0  0  0\n",
      "  0  0  0  0  0  0  0  0  0  0  0  0  0  0  0  0  0  0  0  0  0  0  0  0  0\n",
      "  0  0  0  0  0  0  0  0  0  0  0  0  0  0  0  0  0  0  0  0  0  0  0  0  0]\n"
     ]
    }
   ],
   "source": [
    "print(train_ids[0])"
   ]
  },
  {
   "cell_type": "code",
   "execution_count": 26,
   "metadata": {},
   "outputs": [
    {
     "name": "stdout",
     "output_type": "stream",
     "text": [
      "219753\n",
      "800\n",
      "[   0  776   44 1112    2 1250  777   41  776    2 3275 2181 2181    2\n",
      "    2   41 2498    2    2    2    2    2 2181 3776   44    2    2    2\n",
      "   41 3275    2   44    2    2   10    2    2 3275 2181    2    2 2181\n",
      " 1112    2 3873    2   41 1250    2   44 2498 3873    2  776   41    2\n",
      "    2    2    2    2    2 2181    2    2 3873    2   41 1250   10    2\n",
      "    2 3776 2181 2935    2 3873 2498 2028 1250    2 1112   44   41 1250\n",
      "    2 1250 2181    2    2    2 1250    2    2    2    2 2181 1112 2498\n",
      "    2 3776]\n",
      "29     Saw this book in my local library.  Borrowed i...\n",
      "535    i purchased this for a friend who enjoys cake ...\n",
      "Name: reviewText, dtype: object\n"
     ]
    }
   ],
   "source": [
    "\n",
    "print(len(train_ids))\n",
    "print(len(X_train))\n",
    "print(train_ids[0:100])\n",
    "print(X_train[0:2])"
   ]
  },
  {
   "cell_type": "code",
   "execution_count": 13,
   "metadata": {},
   "outputs": [
    {
     "name": "stdout",
     "output_type": "stream",
     "text": [
      "(800,)\n"
     ]
    }
   ],
   "source": [
    "print(y_train.shape)"
   ]
  },
  {
   "cell_type": "code",
   "execution_count": 12,
   "metadata": {},
   "outputs": [
    {
     "name": "stdout",
     "output_type": "stream",
     "text": [
      "self.output_ (?, ?, 200)\n",
      "self.output_[:, -1] (?, 200)\n",
      "self.predictions (?, 1)\n",
      "self.target (?, ?)\n"
     ]
    }
   ],
   "source": [
    "reload(rnnlm)\n",
    "\n",
    "TF_GRAPHDIR = \"/tmp/w266/a4_graph\"\n",
    "\n",
    "# Clear old log directory.\n",
    "shutil.rmtree(TF_GRAPHDIR, ignore_errors=True)\n",
    "\n",
    "lm = rnnlm.RNNLM(V=vocab.size, H=200, num_layers=2, gl_embed=hands.W)\n",
    "lm.BuildCoreGraph()\n",
    "lm.BuildTrainGraph()\n",
    "#lm.BuildSamplerGraph()\n",
    "\n",
    "summary_writer = tf.summary.FileWriter(TF_GRAPHDIR, lm.graph)"
   ]
  },
  {
   "cell_type": "code",
   "execution_count": 46,
   "metadata": {
    "collapsed": true
   },
   "outputs": [],
   "source": [
    "def run_epoch(lm, session, batch_iterator,\n",
    "              train=False, verbose=False,\n",
    "              tick_s=10, learning_rate=0.1):\n",
    "    start_time = time.time()\n",
    "    tick_time = start_time  # for showing status\n",
    "    total_cost = 0.0  # total cost, summed over all words\n",
    "    total_batches = 0\n",
    "    total_words = 0\n",
    "    loss = lm.loss_\n",
    "    if train:\n",
    "        #train_op = lm.train_step_\n",
    "        use_dropout = True\n",
    "        \n",
    "    else:\n",
    "        #train_op = tf.no_op()\n",
    "        use_dropout = False  # no dropout at test time\n",
    "        \n",
    "\n",
    "    for i, (w, y) in enumerate(batch_iterator, 0):\n",
    "        #print('w shape', w.shape)\n",
    "        #print('y shape', y.shape)\n",
    "        cost = 0.0\n",
    "        # At first batch in epoch, get a clean intitial state.\n",
    "        if i == 0:\n",
    "            h = session.run(lm.initial_h_, {lm.input_w_: w})\n",
    "        \n",
    "        \n",
    "        #### YOUR CODE HERE ####\n",
    "        \n",
    "       \n",
    "        feed_dict = {lm.input_w_: w, lm.initial_h_: h, lm.target_y_: y,  lm.learning_rate_: learning_rate, lm.use_dropout_ : use_dropout}\n",
    "\n",
    "        cost,h, _ = session.run([loss, lm.final_h_,lm.optimizer], feed_dict=feed_dict)   \n",
    "         \n",
    "        #### END(YOUR CODE) ####\n",
    "        total_cost += cost\n",
    "        total_batches = i + 1\n",
    "        total_words += w.size  # w.size = batch_size * max_time\n",
    "\n",
    "        ##\n",
    "        # Print average loss-so-far for epoch\n",
    "        # If using train_loss_, this may be an underestimate.\n",
    "        if verbose and (time.time() - tick_time >= tick_s):\n",
    "            avg_cost = total_cost / total_batches\n",
    "            avg_wps = total_words / (time.time() - start_time)\n",
    "            print(\"[batch {:d}]: seen {:d} words at {:.1f} wps, loss = {:.3f}\".format(\n",
    "                i, total_words, avg_wps, avg_cost))\n",
    "            tick_time = time.time()  # reset time ticker\n",
    "\n",
    "    return total_cost / total_batches"
   ]
  },
  {
   "cell_type": "code",
   "execution_count": 103,
   "metadata": {
    "collapsed": true
   },
   "outputs": [],
   "source": [
    "def score_dataset(lm, session, ids, name=\"Data\"):\n",
    "    # For scoring, we can use larger batches to speed things up.\n",
    "    bi = utils.rnnlm_batch_generator(ids, batch_size=100, max_time=200)\n",
    "    cost = run_epoch(lm, session, batch_iterator=bi, \n",
    "                     learning_rate=1.0, train=False, \n",
    "                     verbose=False, tick_s=3600)\n",
    "    print(\"{:s}: avg. loss: {:.03f}  (perplexity: {:.02f})\".format(name, cost, np.exp(cost)))\n",
    "    \n",
    "    return cost"
   ]
  },
  {
   "cell_type": "code",
   "execution_count": 44,
   "metadata": {
    "collapsed": true
   },
   "outputs": [],
   "source": [
    "def batch_generator(ids, labels, batch_size=100):\n",
    "    \n",
    "    n_batches = len(ids)//batch_size\n",
    "    ids, labels = ids[:n_batches*batch_size], labels[:n_batches*batch_size]\n",
    "    \n",
    "    for ii in range(0, len(ids), batch_size):\n",
    "        yield ids[ii:ii+batch_size], labels[ii:ii+batch_size]\n",
    "        "
   ]
  },
  {
   "cell_type": "code",
   "execution_count": 20,
   "metadata": {
    "collapsed": true
   },
   "outputs": [],
   "source": [
    "# Training parameters\n",
    "V= vocab.size\n",
    "max_time = 200 #max_sequence_length\n",
    "batch_size = 50\n",
    "learning_rate = 0.01\n",
    "num_epochs = 2\n",
    "#num_epochs = 5\n",
    "# Model parameters\n",
    "model_params = dict(V=vocab.size, \n",
    "                    H=100, \n",
    "                    softmax_ns=200,\n",
    "                    num_layers=1,\n",
    "                   gl_embed=hands.W)\n",
    "\n",
    "TF_SAVEDIR = \"/tmp/w266/a4_model\"\n",
    "checkpoint_filename = os.path.join(TF_SAVEDIR, \"rnnlm\")\n",
    "trained_filename = os.path.join(TF_SAVEDIR, \"rnnlm_trained\")"
   ]
  },
  {
   "cell_type": "code",
   "execution_count": 47,
   "metadata": {},
   "outputs": [
    {
     "name": "stdout",
     "output_type": "stream",
     "text": [
      "self.output_ (?, ?, 100)\n",
      "self.output_[:, -1] (?, 100)\n",
      "self.predictions (?, 1)\n",
      "self.target (?,)\n",
      "[epoch 1] Starting epoch 1\n",
      "[epoch 1] Completed in 0:00:06\n",
      "[epoch 1] \n",
      "[epoch 2] Starting epoch 2\n",
      "[epoch 2] Completed in 0:00:06\n",
      "[epoch 2] \n"
     ]
    }
   ],
   "source": [
    "# Will print status every this many seconds\n",
    "print_interval = 5\n",
    "\n",
    "lm = rnnlm.RNNLM(**model_params)\n",
    "lm.BuildCoreGraph()\n",
    "lm.BuildTrainGraph()\n",
    "\n",
    "# Explicitly add global initializer and variable saver to LM graph\n",
    "with lm.graph.as_default():\n",
    "    initializer = tf.global_variables_initializer()\n",
    "    saver = tf.train.Saver()\n",
    "    \n",
    "# Clear old log directory\n",
    "shutil.rmtree(TF_SAVEDIR, ignore_errors=True)\n",
    "if not os.path.isdir(TF_SAVEDIR):\n",
    "    os.makedirs(TF_SAVEDIR)\n",
    "\n",
    "with tf.Session(graph=lm.graph) as session:\n",
    "    # Seed RNG for repeatability\n",
    "    tf.set_random_seed(42)\n",
    "\n",
    "    session.run(initializer)\n",
    "\n",
    "    for epoch in range(1,num_epochs+1):\n",
    "        t0_epoch = time.time()\n",
    "        #bi = utils.rnnlm_batch_generator(train_ids, y_train, batch_size, max_time)\n",
    "        bi = batch_generator(train_ids, y_train, batch_size)\n",
    "        print(\"[epoch {:d}] Starting epoch {:d}\".format(epoch, epoch))\n",
    "        #### YOUR CODE HERE ####\n",
    "        # Run a training epoch.\n",
    "        \n",
    "        avg_cost = run_epoch(lm, session, bi,\n",
    "              train=True, verbose=False,\n",
    "              tick_s=10, learning_rate=0.01)\n",
    "    \n",
    "        \n",
    "        \n",
    "        #### END(YOUR CODE) ####\n",
    "        \n",
    "        if (i % print_interval == 0):\n",
    "            print(\"[epoch %d] seen %d minibatches\" % (epoch, i))\n",
    "        \n",
    "        print(\"[epoch {:d}] Completed in {:s}\".format(epoch, utils.pretty_timedelta(since=t0_epoch)))\n",
    "    \n",
    "        # Save a checkpoint\n",
    "        saver.save(session, checkpoint_filename, global_step=epoch)\n",
    "    \n",
    "        \n",
    "        \n",
    "        \n",
    "        print(\"[epoch {:d}]\".format(epoch), end=\" \")\n",
    "#       score_dataset(lm, session, train_ids, name=\"Train set\")\n",
    "#         print(\"[epoch {:d}]\".format(epoch), end=\" \")\n",
    "#         score_dataset(lm, session, test_ids, name=\"Test set\")\n",
    "        print(\"\")\n",
    "    \n",
    "    # Save final model\n",
    "    saver.save(session, trained_filename)"
   ]
  }
 ],
 "metadata": {
  "kernelspec": {
   "display_name": "Python 3",
   "language": "python",
   "name": "python3"
  },
  "language_info": {
   "codemirror_mode": {
    "name": "ipython",
    "version": 3
   },
   "file_extension": ".py",
   "mimetype": "text/x-python",
   "name": "python",
   "nbconvert_exporter": "python",
   "pygments_lexer": "ipython3",
   "version": "3.6.3"
  }
 },
 "nbformat": 4,
 "nbformat_minor": 2
}
